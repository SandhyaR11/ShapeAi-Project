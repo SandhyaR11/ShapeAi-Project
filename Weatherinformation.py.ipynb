{
 "cells": [
  {
   "cell_type": "code",
   "execution_count": 2,
   "id": "bf517164",
   "metadata": {},
   "outputs": [
    {
     "name": "stdout",
     "output_type": "stream",
     "text": [
      "Enter Your City = gujarat\n",
      "temprature = 35.23000000000002\n",
      "hmdt (in percentage) = 46\n",
      "weather_desc = scattered clouds\n",
      "wind_spd = 4.04\n",
      "dcordinatelon = 72\n",
      "dcordinatelat = 23\n"
     ]
    }
   ],
   "source": [
    "import requests\n",
    "\n",
    "city=input(\"Enter Your City = \")\n",
    "Api_Key = \"eeeed4e6927bc2d22e1cc8a319b4f6ab\" \n",
    "\n",
    "final_URL = \"http://api.openweathermap.org/data/2.5/weather?q={}&appid={}\".format(city,Api_Key)\n",
    "\n",
    "result = requests.get(final_URL)\n",
    "data = result.json()\n",
    "\n",
    "temprature = ((data['main']['temp']) - 273.15)\n",
    "hmdt = data['main']['humidity']\n",
    "weather_desc = data['weather'][0]['description']\n",
    "wind_spd = data['wind']['speed']\n",
    "cordinatelon = data['coord']['lon']\n",
    "cordinatelat = data['coord']['lat']\n",
    "\n",
    "output1=\"temprature = \"+str(temprature)\n",
    "output2=\"hmdt (in percentage) = \"+str(hmdt)\n",
    "output3=\"weather_desc = \"+str(weather_desc)\n",
    "output4=\"wind_spd = \"+str(wind_spd)\n",
    "output5=\"dcordinatelon = \"+str(cordinatelon)\n",
    "output6=\"dcordinatelat = \"+str(cordinatelat)\n",
    "    \n",
    "print(output1)\n",
    "print(output2)\n",
    "print(output3)\n",
    "print(output4)\n",
    "print(output5)\n",
    "print(output6)\n",
    "\n",
    "with open(\"WeatherInfo.txt\",mode='w')as t:\n",
    "    t.write(output1)            #for_temperature\n",
    "    t.write(\"\\n\"+output2)       #for_pressure\n",
    "    t.write(\"\\n\"+output3)       #for_weather_description_humidity\n",
    "    t.write(\"\\n\"+output4)       #for_wind_speed\n",
    "    t.write(\"\\n\"+output5)       #for_longitude\n",
    "    t.write(\"\\n\"+output6)       #for_latitude\n",
    "    t.close()"
   ]
  },
  {
   "cell_type": "code",
   "execution_count": null,
   "id": "20e497b0",
   "metadata": {},
   "outputs": [],
   "source": []
  }
 ],
 "metadata": {
  "kernelspec": {
   "display_name": "Python 3",
   "language": "python",
   "name": "python3"
  },
  "language_info": {
   "codemirror_mode": {
    "name": "ipython",
    "version": 3
   },
   "file_extension": ".py",
   "mimetype": "text/x-python",
   "name": "python",
   "nbconvert_exporter": "python",
   "pygments_lexer": "ipython3",
   "version": "3.8.8"
  }
 },
 "nbformat": 4,
 "nbformat_minor": 5
}
